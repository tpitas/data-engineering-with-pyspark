{
 "cells": [
  {
   "cell_type": "markdown",
   "id": "b1b7234f-84f9-4203-9b0c-9c3c9e87c79e",
   "metadata": {},
   "source": [
    "1303 Find the team size.sql\n",
    "-- Table: Employee\n",
    " +---------------+---------+\n",
    " | Column Name   | Type    |\n",
    " +---------------+---------+\n",
    " | employee_id   | int     |\n",
    " | team_id       | int     |\n",
    " +---------------+---------+\n",
    " employee_id is the primary key for this table.\n",
    " Each row of this table contains the ID of each employee and their respective team.\n",
    " Write an SQL query to find the team size of each of the employees.\n",
    " Return result table in any order.\n",
    " The query result format is in the following example:\n",
    " Employee Table:\n",
    " +-------------+------------+\n",
    " | employee_id | team_id    |\n",
    " +-------------+------------+\n",
    " |     1       |     8      |\n",
    " |     2       |     8      |\n",
    " |     3       |     8      |\n",
    " |     4       |     7      |\n",
    " |     5       |     9      |\n",
    " |     6       |     9      |\n",
    " +-------------+------------+\n",
    " Result table:\n",
    " +-------------+------------+\n",
    " | employee_id | team_size  |\n",
    " +-------------+------------+\n",
    " |     1       |     3      |\n",
    " |     2       |     3      |\n",
    " |     3       |     3      |\n",
    " |     4       |     1      |\n",
    " |     5       |     2      |\n",
    " |     6       |     2      |\n",
    " +-------------+------------+\n",
    "Employees with Id 1,2,3 are part of a team with team_id = 8.\n",
    "Employees with Id 4 is part of a team with team_id = 7.\n",
    "Employees with Id 5,6 are part of a team with team_id = 9."
   ]
  },
  {
   "cell_type": "code",
   "execution_count": 1,
   "id": "b84cd956-4f30-493b-b7d4-60ac7953a7ba",
   "metadata": {},
   "outputs": [
    {
     "name": "stderr",
     "output_type": "stream",
     "text": [
      "24/04/14 18:36:26 WARN Utils: Your hostname, localhost.localdomain resolves to a loopback address: 127.0.0.1; using 192.168.174.137 instead (on interface ens160)\n",
      "24/04/14 18:36:26 WARN Utils: Set SPARK_LOCAL_IP if you need to bind to another address\n",
      "Setting default log level to \"WARN\".\n",
      "To adjust logging level use sc.setLogLevel(newLevel). For SparkR, use setLogLevel(newLevel).\n",
      "24/04/14 18:36:27 WARN NativeCodeLoader: Unable to load native-hadoop library for your platform... using builtin-java classes where applicable\n"
     ]
    }
   ],
   "source": [
    "# Importing sparksession\n",
    "from pyspark.sql import SparkSession\n",
    "# Creating a sparksession object\n",
    "spark = SparkSession.builder.appName(\"window_function\").getOrCreate()"
   ]
  },
  {
   "cell_type": "code",
   "execution_count": 2,
   "id": "397f1a88-a31a-4573-8fb1-1452950d310d",
   "metadata": {},
   "outputs": [],
   "source": [
    "employees_teams = [(1,8),(2,8),(3,8),(4,7),(5,9),(6,9)]"
   ]
  },
  {
   "cell_type": "code",
   "execution_count": 3,
   "id": "9f5da828-2f16-4dfd-b562-55b2d5dba12f",
   "metadata": {},
   "outputs": [
    {
     "name": "stderr",
     "output_type": "stream",
     "text": [
      "                                                                                                                                                                       \r"
     ]
    },
    {
     "name": "stdout",
     "output_type": "stream",
     "text": [
      "+-----------+-------+\n",
      "|employee_id|team_id|\n",
      "+-----------+-------+\n",
      "|          1|      8|\n",
      "|          2|      8|\n",
      "|          3|      8|\n",
      "|          4|      7|\n",
      "|          5|      9|\n",
      "|          6|      9|\n",
      "+-----------+-------+\n",
      "\n"
     ]
    }
   ],
   "source": [
    "# Creating the DataFrame\n",
    "employeeteams = spark.createDataFrame(employees_teams,schema=(\"employee_id integer, team_id integer\"))\n",
    "employeeteams.show()"
   ]
  },
  {
   "cell_type": "code",
   "execution_count": 4,
   "id": "da6e93cd-1620-45a8-bfed-159bac91e5cd",
   "metadata": {},
   "outputs": [
    {
     "name": "stderr",
     "output_type": "stream",
     "text": [
      "[Stage 2:>                                                                                                                                                 (0 + 4) / 4]\r"
     ]
    },
    {
     "name": "stdout",
     "output_type": "stream",
     "text": [
      "+-------+-----+\n",
      "|team_id|count|\n",
      "+-------+-----+\n",
      "|      8|    3|\n",
      "|      7|    1|\n",
      "|      9|    2|\n",
      "+-------+-----+\n",
      "\n"
     ]
    },
    {
     "name": "stderr",
     "output_type": "stream",
     "text": [
      "                                                                                                                                                                       \r"
     ]
    }
   ],
   "source": [
    "# Using Groupby\n",
    "employeeteams_new = employeeteams.groupby(\"team_id\").count()\n",
    "employeeteams_new.show()"
   ]
  },
  {
   "cell_type": "code",
   "execution_count": 5,
   "id": "2bf60f7e-94f8-40ea-b51a-abcb73c44ac8",
   "metadata": {},
   "outputs": [
    {
     "name": "stderr",
     "output_type": "stream",
     "text": [
      "                                                                                                                                                                       \r"
     ]
    },
    {
     "name": "stdout",
     "output_type": "stream",
     "text": [
      "+-----------+-----+\n",
      "|employee_id|count|\n",
      "+-----------+-----+\n",
      "|          1|    3|\n",
      "|          2|    3|\n",
      "|          3|    3|\n",
      "|          4|    1|\n",
      "|          5|    2|\n",
      "|          6|    2|\n",
      "+-----------+-----+\n",
      "\n"
     ]
    }
   ],
   "source": [
    "# Team size\n",
    "employeeteams_new.join(employeeteams,on=\"team_id\", how=\"inner\").select(\"employee_id\", \"count\").orderBy(\"employee_id\").show()"
   ]
  }
 ],
 "metadata": {
  "kernelspec": {
   "display_name": "Python 3 (ipykernel)",
   "language": "python",
   "name": "python3"
  },
  "language_info": {
   "codemirror_mode": {
    "name": "ipython",
    "version": 3
   },
   "file_extension": ".py",
   "mimetype": "text/x-python",
   "name": "python",
   "nbconvert_exporter": "python",
   "pygments_lexer": "ipython3",
   "version": "3.10.11"
  }
 },
 "nbformat": 4,
 "nbformat_minor": 5
}
